{
  "cells": [
    {
      "cell_type": "markdown",
      "metadata": {
        "id": "view-in-github",
        "colab_type": "text"
      },
      "source": [
        "<a href=\"https://colab.research.google.com/github/Thennarasu7411/Sample-code/blob/main/Another_copy_of_MNIST_Dataset_Digit_Recognizer.ipynb\" target=\"_parent\"><img src=\"https://colab.research.google.com/assets/colab-badge.svg\" alt=\"Open In Colab\"/></a>"
      ]
    },
    {
      "source": [
        "# IMPORTANT: SOME KAGGLE DATA SOURCES ARE PRIVATE\n",
        "# RUN THIS CELL IN ORDER TO IMPORT YOUR KAGGLE DATA SOURCES.\n",
        "import kagglehub\n",
        "kagglehub.login()"
      ],
      "metadata": {
        "id": "KPin5HOyvV94",
        "outputId": "557ac220-2072-4410-997d-1e314b43a091",
        "colab": {
          "base_uri": "https://localhost:8080/",
          "height": 330,
          "referenced_widgets": [
            "516206cd300e470aa9502433e8062ea5",
            "adb09fb9b3c04179b777bdcb4d691fb5",
            "6b515178eef541eca40a972394c252a3",
            "e00d319b444a47768da9962e807162a7",
            "f9c80a64ee4542a794535b580b43a869",
            "3c59f51227b047e7b1d9a9450ae513d7",
            "7a14e6981b994f5aa84d075c951cb81c",
            "a98204efd47e4451ac70dc535ceb0fb0",
            "b2d971b381504a9b90326ff0c5de365a",
            "ed94bc4b191b4b58adc5782aa4adaf19",
            "90c0497f6b98440a90da31bdc253c1ba",
            "f5f15a1f619f4ffb9a869a7a028168da",
            "dee0897138564bdcb3d0f16dc215c8c0",
            "971e6b2fe1de47f189eb48c826e2796e",
            "ba79b1f8c85f4fbc8f79637d65a1f6d3",
            "67cfab8e97fd46dabb54c98c145dd67c",
            "90c18c38012f492399dfca79acf2b7ee"
          ]
        }
      },
      "cell_type": "code",
      "outputs": [
        {
          "output_type": "display_data",
          "data": {
            "text/plain": [
              "VBox(children=(HTML(value='<center> <img\\nsrc=https://www.kaggle.com/static/images/site-logo.png\\nalt=\\'Kaggle…"
            ],
            "application/vnd.jupyter.widget-view+json": {
              "version_major": 2,
              "version_minor": 0,
              "model_id": "516206cd300e470aa9502433e8062ea5"
            }
          },
          "metadata": {}
        }
      ],
      "execution_count": null
    },
    {
      "source": [
        "# IMPORTANT: RUN THIS CELL IN ORDER TO IMPORT YOUR KAGGLE DATA SOURCES,\n",
        "# THEN FEEL FREE TO DELETE THIS CELL.\n",
        "# NOTE: THIS NOTEBOOK ENVIRONMENT DIFFERS FROM KAGGLE'S PYTHON\n",
        "# ENVIRONMENT SO THERE MAY BE MISSING LIBRARIES USED BY YOUR\n",
        "# NOTEBOOK\n",
        "#DIGIT RECOGNIZER PATH kagglehub.competition_download('digit-recognizer')\n",
        "\n",
        "#print('Data source import complete.')"
      ],
      "metadata": {
        "id": "eOgmgYDIvV-B"
      },
      "cell_type": "code",
      "outputs": [],
      "execution_count": null
    },
    {
      "outputs": [],
      "metadata": {
        "_cell_guid": "55ec59e1-8a8c-42d2-8ccc-b6d95ea198b4",
        "_uuid": "a6d625ede9e19ac1f146a5f63d6ca19c4b98e20c",
        "_execution_state": "busy",
        "trusted": false,
        "id": "geJHDANSvV-K"
      },
      "cell_type": "code",
      "execution_count": null,
      "source": [
        "import pandas as pd\n",
        "import numpy as np\n",
        "\n",
        "np.random.seed(1212)\n",
        "\n",
        "import keras\n",
        "from keras.models import Model\n",
        "from keras.layers import *\n",
        "from keras import optimizers"
      ]
    },
    {
      "outputs": [],
      "metadata": {
        "_cell_guid": "daa0805e-e1dd-4806-b2db-ff0124febe7d",
        "_uuid": "be0a7acbb3bfc83fd3103b4a401337aafe57c00d",
        "_execution_state": "busy",
        "trusted": false,
        "id": "o7c9cI8evV-M"
      },
      "cell_type": "code",
      "execution_count": null,
      "source": [
        "\n",
        "#csv('digital recognizer')\n",
        "#df_train = pd.read_csv('train.csv')\n",
        "#df_test = pd.read_csv('test.csv')"
      ]
    },
    {
      "outputs": [],
      "metadata": {
        "_cell_guid": "dfae6a31-23ea-4d88-9fcd-06b8b705b614",
        "_uuid": "0f7bfb5923e5b4ed5a5149c007a2cd39cb9b8282",
        "_execution_state": "busy",
        "trusted": false,
        "id": "09-RXMLxvV-O"
      },
      "cell_type": "code",
      "execution_count": null,
      "source": [
        "#df_train.head() # 784 features, 1 label"
      ]
    },
    {
      "metadata": {
        "_cell_guid": "45bd232a-4000-4a06-a3ed-0be9f993746c",
        "_uuid": "f0970dcbc0b6791dc44936d8d63e6985dfb6960c",
        "_execution_state": "idle",
        "collapsed": false,
        "id": "_WXHOwMwvV-Q"
      },
      "cell_type": "markdown",
      "source": [
        "## Splitting into training and validation dataset"
      ]
    },
    {
      "outputs": [],
      "metadata": {
        "_cell_guid": "bb78680a-ce50-4ee9-a77f-265b9ee38aee",
        "_uuid": "16e39b5512ed29c8f9d7db51331693e4689ce306",
        "_execution_state": "busy",
        "trusted": false,
        "id": "1MU5vrVrvV-R"
      },
      "cell_type": "code",
      "execution_count": null,
      "source": [
        "#df_features = #df_train.iloc[:, 1:785]\n",
        "#df_label =#df_train.iloc[:, 0]\n",
        "\n",
        "#X_test =df_train.iloc[:, 0:784]\n",
        "\n",
        "#print(X_test.shape)"
      ]
    },
    {
      "outputs": [],
      "metadata": {
        "_cell_guid": "a3fb0b37-1edf-42bd-b951-86f254b78fc1",
        "_uuid": "a98808f6188e9c44741ad2b5c25a894106406dfc",
        "_execution_state": "busy",
        "trusted": false,
        "id": "Mdi55HK5vV-T"
      },
      "cell_type": "code",
      "execution_count": null,
      "source": [
        "#from sklearn.model_selection import train_test_split\n",
        "#X_train, X_cv, y_train, y_cv = train_test_split(df_features, df_label,\n",
        "                                               # test_size = 0.2,\n",
        "                                               # random_state = 1212)\n",
        "\n",
        "#X_train = X_train.as_matrix().reshape(33600, 784) #(33600, 784)\n",
        "#X_cv = X_cv.as_matrix().reshape(8400, 784) #(8400, 784)\n",
        "\n",
        "#X_test = X_test.as_matrix().reshape(28000, 784)"
      ]
    },
    {
      "metadata": {
        "_cell_guid": "4486ba9e-b8b3-4f09-a597-3d5e6bbd6c1c",
        "_uuid": "9a10a6e1aae9645a7c3e5a703d78d9c3b096f6d3",
        "_execution_state": "idle",
        "collapsed": false,
        "id": "e56CvMU9vV-U"
      },
      "cell_type": "markdown",
      "source": [
        "## Data cleaning, normalization and selection"
      ]
    },
    {
      "outputs": [],
      "metadata": {
        "_cell_guid": "4d0e07b5-28dd-42f1-b425-6414aea90cde",
        "_uuid": "cc2daf9f099fb62e3b470f913349428ef396b75b",
        "_execution_state": "busy",
        "trusted": false,
        "id": "NpSP8rN6vV-V"
      },
      "cell_type": "code",
      "execution_count": null,
      "source": [
        "#print((min(X_train[1]), #max(X_train[1])))"
      ]
    },
    {
      "outputs": [],
      "metadata": {
        "_cell_guid": "e9f8eaa0-c77e-4510-9ff1-bb56e1d5f76d",
        "_uuid": "c24261ffd2384078a836a909ea4839a31d51dd66",
        "_execution_state": "busy",
        "trusted": false,
        "id": "epmmn8nCvV-X"
      },
      "cell_type": "code",
      "execution_count": null,
      "source": [
        "# Feature Normalization\n",
        "#X_train = X_train.astype('float32'); X_cv= X_cv.astype('float32'); X_test = X_test.astype('float32')\n",
        "#X_train /= 255; X_cv /= 255; X_test /= 255\n",
        "\n",
        "# Convert labels to One Hot Encoded\n",
        "#num_digits = 10\n",
        "#y_train = keras.utils.to_categorical(y_train, num_digits)\n",
        "#y_cv = keras.utils.to_categorical(y_cv, num_digits)"
      ]
    },
    {
      "outputs": [],
      "metadata": {
        "_cell_guid": "6667ca35-44ff-43f3-b88b-27b787be4ee0",
        "_uuid": "3fdf37a538504f4e5288cbb8b70a719c2689caca",
        "_execution_state": "busy",
        "trusted": false,
        "id": "YcpaQ_FzvV-Y"
      },
      "cell_type": "code",
      "execution_count": null,
      "source": [
        "# Printing 2 examples of labels after conversion\n",
        "#print(y_train[0]) # 2\n",
        "#print(y_train[3]) # 7"
      ]
    },
    {
      "metadata": {
        "_cell_guid": "7d4e437c-12ea-4bad-a580-5504e8a77da0",
        "_uuid": "0776b5f2aff1ebb6f12c2a9ee8e93013c690caf6",
        "_execution_state": "idle",
        "collapsed": false,
        "id": "rOFLjy02vV-Z"
      },
      "cell_type": "markdown",
      "source": [
        "## Model Fitting"
      ]
    },
    {
      "outputs": [],
      "metadata": {
        "_cell_guid": "be9af3d4-ddac-4f85-945f-bd1cdf09fc15",
        "_uuid": "b88da407b6dab83e54b5380e0e62459577949932",
        "_execution_state": "busy",
        "trusted": false,
        "id": "NkLckJt5vV-b"
      },
      "cell_type": "code",
      "execution_count": null,
      "source": [
        "# Input Parameters\n",
        "n_input = 784 # number of features\n",
        "n_hidden_1 = 300\n",
        "n_hidden_2 = 100\n",
        "n_hidden_3 = 100\n",
        "n_hidden_4 = 200\n",
        "num_digits = 10"
      ]
    },
    {
      "outputs": [],
      "metadata": {
        "_cell_guid": "74eac473-a6cb-4356-a982-ef3cb6c971de",
        "_uuid": "f97a558010d88407363bbb08fa00e7c87a3d6ceb",
        "_execution_state": "busy",
        "trusted": false,
        "id": "BpbrAKKsvV-b"
      },
      "cell_type": "code",
      "execution_count": null,
      "source": [
        "Inp = Input(shape=(784,))\n",
        "x = Dense(n_hidden_1, activation='relu', name = \"Hidden_Layer_1\")(Inp)\n",
        "x = Dense(n_hidden_2, activation='relu', name = \"Hidden_Layer_2\")(x)\n",
        "x = Dense(n_hidden_3, activation='relu', name = \"Hidden_Layer_3\")(x)\n",
        "x = Dense(n_hidden_4, activation='relu', name = \"Hidden_Layer_4\")(x)\n",
        "output = Dense(num_digits, activation='softmax', name = \"Output_Layer\")(x)"
      ]
    },
    {
      "outputs": [
        {
          "output_type": "display_data",
          "data": {
            "text/plain": [
              "\u001b[1mModel: \"functional\"\u001b[0m\n"
            ],
            "text/html": [
              "<pre style=\"white-space:pre;overflow-x:auto;line-height:normal;font-family:Menlo,'DejaVu Sans Mono',consolas,'Courier New',monospace\"><span style=\"font-weight: bold\">Model: \"functional\"</span>\n",
              "</pre>\n"
            ]
          },
          "metadata": {}
        },
        {
          "output_type": "display_data",
          "data": {
            "text/plain": [
              "┏━━━━━━━━━━━━━━━━━━━━━━━━━━━━━━━━━┳━━━━━━━━━━━━━━━━━━━━━━━━┳━━━━━━━━━━━━━━━┓\n",
              "┃\u001b[1m \u001b[0m\u001b[1mLayer (type)                   \u001b[0m\u001b[1m \u001b[0m┃\u001b[1m \u001b[0m\u001b[1mOutput Shape          \u001b[0m\u001b[1m \u001b[0m┃\u001b[1m \u001b[0m\u001b[1m      Param #\u001b[0m\u001b[1m \u001b[0m┃\n",
              "┡━━━━━━━━━━━━━━━━━━━━━━━━━━━━━━━━━╇━━━━━━━━━━━━━━━━━━━━━━━━╇━━━━━━━━━━━━━━━┩\n",
              "│ input_layer (\u001b[38;5;33mInputLayer\u001b[0m)        │ (\u001b[38;5;45mNone\u001b[0m, \u001b[38;5;34m784\u001b[0m)            │             \u001b[38;5;34m0\u001b[0m │\n",
              "├─────────────────────────────────┼────────────────────────┼───────────────┤\n",
              "│ Hidden_Layer_1 (\u001b[38;5;33mDense\u001b[0m)          │ (\u001b[38;5;45mNone\u001b[0m, \u001b[38;5;34m300\u001b[0m)            │       \u001b[38;5;34m235,500\u001b[0m │\n",
              "├─────────────────────────────────┼────────────────────────┼───────────────┤\n",
              "│ Hidden_Layer_2 (\u001b[38;5;33mDense\u001b[0m)          │ (\u001b[38;5;45mNone\u001b[0m, \u001b[38;5;34m100\u001b[0m)            │        \u001b[38;5;34m30,100\u001b[0m │\n",
              "├─────────────────────────────────┼────────────────────────┼───────────────┤\n",
              "│ Hidden_Layer_3 (\u001b[38;5;33mDense\u001b[0m)          │ (\u001b[38;5;45mNone\u001b[0m, \u001b[38;5;34m100\u001b[0m)            │        \u001b[38;5;34m10,100\u001b[0m │\n",
              "├─────────────────────────────────┼────────────────────────┼───────────────┤\n",
              "│ Hidden_Layer_4 (\u001b[38;5;33mDense\u001b[0m)          │ (\u001b[38;5;45mNone\u001b[0m, \u001b[38;5;34m200\u001b[0m)            │        \u001b[38;5;34m20,200\u001b[0m │\n",
              "├─────────────────────────────────┼────────────────────────┼───────────────┤\n",
              "│ Output_Layer (\u001b[38;5;33mDense\u001b[0m)            │ (\u001b[38;5;45mNone\u001b[0m, \u001b[38;5;34m10\u001b[0m)             │         \u001b[38;5;34m2,010\u001b[0m │\n",
              "└─────────────────────────────────┴────────────────────────┴───────────────┘\n"
            ],
            "text/html": [
              "<pre style=\"white-space:pre;overflow-x:auto;line-height:normal;font-family:Menlo,'DejaVu Sans Mono',consolas,'Courier New',monospace\">┏━━━━━━━━━━━━━━━━━━━━━━━━━━━━━━━━━┳━━━━━━━━━━━━━━━━━━━━━━━━┳━━━━━━━━━━━━━━━┓\n",
              "┃<span style=\"font-weight: bold\"> Layer (type)                    </span>┃<span style=\"font-weight: bold\"> Output Shape           </span>┃<span style=\"font-weight: bold\">       Param # </span>┃\n",
              "┡━━━━━━━━━━━━━━━━━━━━━━━━━━━━━━━━━╇━━━━━━━━━━━━━━━━━━━━━━━━╇━━━━━━━━━━━━━━━┩\n",
              "│ input_layer (<span style=\"color: #0087ff; text-decoration-color: #0087ff\">InputLayer</span>)        │ (<span style=\"color: #00d7ff; text-decoration-color: #00d7ff\">None</span>, <span style=\"color: #00af00; text-decoration-color: #00af00\">784</span>)            │             <span style=\"color: #00af00; text-decoration-color: #00af00\">0</span> │\n",
              "├─────────────────────────────────┼────────────────────────┼───────────────┤\n",
              "│ Hidden_Layer_1 (<span style=\"color: #0087ff; text-decoration-color: #0087ff\">Dense</span>)          │ (<span style=\"color: #00d7ff; text-decoration-color: #00d7ff\">None</span>, <span style=\"color: #00af00; text-decoration-color: #00af00\">300</span>)            │       <span style=\"color: #00af00; text-decoration-color: #00af00\">235,500</span> │\n",
              "├─────────────────────────────────┼────────────────────────┼───────────────┤\n",
              "│ Hidden_Layer_2 (<span style=\"color: #0087ff; text-decoration-color: #0087ff\">Dense</span>)          │ (<span style=\"color: #00d7ff; text-decoration-color: #00d7ff\">None</span>, <span style=\"color: #00af00; text-decoration-color: #00af00\">100</span>)            │        <span style=\"color: #00af00; text-decoration-color: #00af00\">30,100</span> │\n",
              "├─────────────────────────────────┼────────────────────────┼───────────────┤\n",
              "│ Hidden_Layer_3 (<span style=\"color: #0087ff; text-decoration-color: #0087ff\">Dense</span>)          │ (<span style=\"color: #00d7ff; text-decoration-color: #00d7ff\">None</span>, <span style=\"color: #00af00; text-decoration-color: #00af00\">100</span>)            │        <span style=\"color: #00af00; text-decoration-color: #00af00\">10,100</span> │\n",
              "├─────────────────────────────────┼────────────────────────┼───────────────┤\n",
              "│ Hidden_Layer_4 (<span style=\"color: #0087ff; text-decoration-color: #0087ff\">Dense</span>)          │ (<span style=\"color: #00d7ff; text-decoration-color: #00d7ff\">None</span>, <span style=\"color: #00af00; text-decoration-color: #00af00\">200</span>)            │        <span style=\"color: #00af00; text-decoration-color: #00af00\">20,200</span> │\n",
              "├─────────────────────────────────┼────────────────────────┼───────────────┤\n",
              "│ Output_Layer (<span style=\"color: #0087ff; text-decoration-color: #0087ff\">Dense</span>)            │ (<span style=\"color: #00d7ff; text-decoration-color: #00d7ff\">None</span>, <span style=\"color: #00af00; text-decoration-color: #00af00\">10</span>)             │         <span style=\"color: #00af00; text-decoration-color: #00af00\">2,010</span> │\n",
              "└─────────────────────────────────┴────────────────────────┴───────────────┘\n",
              "</pre>\n"
            ]
          },
          "metadata": {}
        },
        {
          "output_type": "display_data",
          "data": {
            "text/plain": [
              "\u001b[1m Total params: \u001b[0m\u001b[38;5;34m297,910\u001b[0m (1.14 MB)\n"
            ],
            "text/html": [
              "<pre style=\"white-space:pre;overflow-x:auto;line-height:normal;font-family:Menlo,'DejaVu Sans Mono',consolas,'Courier New',monospace\"><span style=\"font-weight: bold\"> Total params: </span><span style=\"color: #00af00; text-decoration-color: #00af00\">297,910</span> (1.14 MB)\n",
              "</pre>\n"
            ]
          },
          "metadata": {}
        },
        {
          "output_type": "display_data",
          "data": {
            "text/plain": [
              "\u001b[1m Trainable params: \u001b[0m\u001b[38;5;34m297,910\u001b[0m (1.14 MB)\n"
            ],
            "text/html": [
              "<pre style=\"white-space:pre;overflow-x:auto;line-height:normal;font-family:Menlo,'DejaVu Sans Mono',consolas,'Courier New',monospace\"><span style=\"font-weight: bold\"> Trainable params: </span><span style=\"color: #00af00; text-decoration-color: #00af00\">297,910</span> (1.14 MB)\n",
              "</pre>\n"
            ]
          },
          "metadata": {}
        },
        {
          "output_type": "display_data",
          "data": {
            "text/plain": [
              "\u001b[1m Non-trainable params: \u001b[0m\u001b[38;5;34m0\u001b[0m (0.00 B)\n"
            ],
            "text/html": [
              "<pre style=\"white-space:pre;overflow-x:auto;line-height:normal;font-family:Menlo,'DejaVu Sans Mono',consolas,'Courier New',monospace\"><span style=\"font-weight: bold\"> Non-trainable params: </span><span style=\"color: #00af00; text-decoration-color: #00af00\">0</span> (0.00 B)\n",
              "</pre>\n"
            ]
          },
          "metadata": {}
        }
      ],
      "metadata": {
        "_cell_guid": "bf09781e-6376-4f2d-a872-6292d466f657",
        "_uuid": "aaf8fe1cd6cb32675f0ed5009d7bc31d6f71e4ea",
        "_execution_state": "busy",
        "trusted": false,
        "id": "VpAND24avV-c",
        "outputId": "93f9bfe6-64a6-4415-e4a8-40b1a656f873",
        "colab": {
          "base_uri": "https://localhost:8080/",
          "height": 361
        }
      },
      "cell_type": "code",
      "execution_count": null,
      "source": [
        "# Our model would have '6' layers - input layer, 4 hidden layer and 1 output layer\n",
        "model = Model(Inp, output)\n",
        "model.summary() # We have 297,910 parameters to estimate"
      ]
    },
    {
      "outputs": [],
      "metadata": {
        "_cell_guid": "906807f1-ed62-4dee-a423-5f15842fb28f",
        "_uuid": "c4ea7858fbdf41308dcdb5d373af11484d5b5140",
        "_execution_state": "busy",
        "trusted": false,
        "id": "MPWT1BrLvV-d"
      },
      "cell_type": "code",
      "execution_count": null,
      "source": [
        "# Insert Hyperparameters\n",
        "#learning_rate = 0.1\n",
        "#training_epochs = 20\n",
        "#batch_size = 100\n",
        "#sgd = optimizers.SGD(lr=learning_rate)"
      ]
    },
    {
      "outputs": [],
      "metadata": {
        "_cell_guid": "5678ce6d-58eb-4394-9a77-b67c94c2ca4f",
        "_uuid": "775193de659c41c949495a2afa3b14024a2536a7",
        "_execution_state": "busy",
        "trusted": false,
        "id": "xkxd58MavV-d"
      },
      "cell_type": "code",
      "execution_count": null,
      "source": [
        "# We rely on the plain vanilla Stochastic Gradient Descent as our optimizing methodology\n",
        "model.compile(loss='categorical_crossentropy',\n",
        "              optimizer='sgd',\n",
        "              metrics=['accuracy'])"
      ]
    },
    {
      "outputs": [],
      "metadata": {
        "_cell_guid": "1a547d04-6aeb-4c76-8fbc-7fbca1b50b2a",
        "_uuid": "4960dfa65394fb0314ce9cb7af63d48709a39d1a",
        "_execution_state": "busy",
        "trusted": false,
        "id": "98RjFbbpvV-e"
      },
      "cell_type": "code",
      "execution_count": null,
      "source": [
        "#HISTORY 1= model.fit(X_train, y_train,\n",
        "                     #batch_size = batch_size,\n",
        "                     #epochs = training_epochs,\n",
        "                     #verbose = 2,\n",
        "                     #validation_data=(X_cv, y_cv))"
      ]
    },
    {
      "metadata": {
        "collapsed": false,
        "_uuid": "6121bf7f8adbeaf85b3aef6167444b555b920440",
        "_execution_state": "idle",
        "_cell_guid": "2fee2dfc-23d2-480f-918e-54fb5386c4ea",
        "id": "_72faLXLvV-e"
      },
      "cell_type": "markdown",
      "source": [
        "Using a 4 layer neural network with:\n",
        "\n",
        "1. 20 training epochs\n",
        "2. A training batch size of 100\n",
        "3. Hidden layers set as (300, 100, 100, 200)\n",
        "4. Learning rate of 0.1\n",
        "\n",
        "Achieved a training score of around 96-98% and a test score of around 95 - 97%.\n",
        "\n",
        "Can we do better if we were to change the optimizer? To find out, we use the Adam optimizer for our second model, while maintaining the same parameter values for all other parameters."
      ]
    },
    {
      "outputs": [],
      "metadata": {
        "_cell_guid": "4e7a2ba9-ac08-4355-a37f-2336220cfda7",
        "_uuid": "3d9c3ffb9722b640ea0682e5826971045091db66",
        "_execution_state": "busy",
        "trusted": false,
        "id": "YFpGfL7nvV-e"
      },
      "cell_type": "code",
      "execution_count": null,
      "source": [
        "#Inp = Input(shape=(784,))\n",
        "#x = Dense(n_hidden_1, activation='relu', name = \"Hidden_Layer_1\")(Inp)\n",
        "#x = Dense(n_hidden_2, activation='relu', name = \"Hidden_Layer_2\")(x)\n",
        "#x = Dense(n_hidden_3, activation='relu', name = \"Hidden_Layer_3\")(x)\n",
        "#x = Dense(n_hidden_4, activation='relu', name = \"Hidden_Layer_4\")(x)\n",
        "#output = Dense(num_digits, activation='softmax', name = \"Output_Layer\")(x)\n",
        "\n",
        "# We rely on ADAM as our optimizing methodology\n",
        "#adam = keras.optimizers.Adam(lr=learning_rate)\n",
        "model2 = Model(Inp, output)\n",
        "\n",
        "#model2.compile(loss='categorical_crossentropy',\n",
        "              #optimizer='adam',\n",
        "              #metrics=['accuracy'])"
      ]
    },
    {
      "outputs": [],
      "metadata": {
        "_cell_guid": "e4470ac7-6888-4b10-a4e5-8bd4e22301cf",
        "_uuid": "7f94a2f9d7db89bf3fb28ecff64dbf7a496b0b9c",
        "_execution_state": "busy",
        "trusted": false,
        "id": "shkMs_wMvV-f"
      },
      "cell_type": "code",
      "execution_count": null,
      "source": [
        "#HISTORY 2 = model2.fit(X_train, y_train,\n",
        "                      #batch_size = batch_size,\n",
        "                      #epochs = training_epochs,\n",
        "                      #verbose = 2,\n",
        "                      #validation_data=(X_cv, y_cv))"
      ]
    },
    {
      "outputs": [],
      "metadata": {
        "_cell_guid": "da528246-4223-42ff-af96-cd3419c34507",
        "_uuid": "d2e88469ac4ed8ac19a195d71941178d8cdb7c32",
        "_execution_state": "busy",
        "trusted": false,
        "id": "mH8USqlSvV-g"
      },
      "cell_type": "code",
      "execution_count": null,
      "source": [
        "#Inp = Input(shape=(784,))\n",
        "#x = Dense(n_hidden_1, activation='relu', name = \"Hidden_Layer_1\")(Inp)\n",
        "#x = Dense(n_hidden_2, activation='relu', name = \"Hidden_Layer_2\")(x)\n",
        "#x = Dense(n_hidden_3, activation='relu', name = \"Hidden_Layer_3\")(x)\n",
        "#x = Dense(n_hidden_4, activation='relu', name = \"Hidden_Layer_4\")(x)\n",
        "#output = Dense(num_digits, activation='softmax', name = \"Output_Layer\")(x)\n",
        "\n",
        "#learning_rate = 0.01\n",
        "#adam = keras.optimizers.Adam(lr=learning_rate)\n",
        "#model = Model(Inp, output)\n",
        "\n",
        "#model2a.compile(loss='categorical_crossentropy',\n",
        "              #optimizer='adam',\n",
        "              #metrics=['accuracy'])"
      ]
    },
    {
      "outputs": [],
      "metadata": {
        "_cell_guid": "847391bb-4640-4117-a35e-5593d823bbc4",
        "_uuid": "8e397c8d027a4f27b1f72ac9333de51cbc335cd6",
        "_execution_state": "busy",
        "trusted": false,
        "id": "XZVUEmIuvV-g"
      },
      "cell_type": "code",
      "execution_count": null,
      "source": [
        "#history2a = model2a.fit(X_train, y_train,\n",
        "                        #batch_size = batch_size,\n",
        "                        #epochs = training_epochs,\n",
        "                        #verbose = 2,\n",
        "                        #validation_data=(X_cv, y_cv))"
      ]
    },
    {
      "metadata": {
        "collapsed": false,
        "_uuid": "42520a694b6caf71582c6d5aad5a8599d52e5096",
        "_execution_state": "idle",
        "_cell_guid": "590e8fcc-b3da-41e7-984d-d5d53aa5cb81",
        "id": "_iG-NnlivV-h"
      },
      "cell_type": "markdown",
      "source": [
        "Model 2B"
      ]
    },
    {
      "outputs": [],
      "metadata": {
        "_cell_guid": "18ef2f7d-f9a6-4609-8fd4-7d98cb7bc82f",
        "_uuid": "fbc0a1e06296ada3553c9328e48861645680bbf9",
        "_execution_state": "busy",
        "trusted": false,
        "id": "UL0AhO-BvV-i"
      },
      "cell_type": "code",
      "execution_count": null,
      "source": [
        "#Inp = Input(shape=(784,))\n",
        "#x = Dense(n_hidden_1, activation='relu', name = \"Hidden_Layer_1\")(Inp)\n",
        "#x = Dense(n_hidden_2, activation='relu', name = \"Hidden_Layer_2\")(x)\n",
        "#x = Dense(n_hidden_3, activation='relu', name = \"Hidden_Layer_3\")(x)\n",
        "#x = Dense(n_hidden_4, activation='relu', name = \"Hidden_Layer_4\")(x)\n",
        "#output = Dense(num_digits, activation='softmax', name = \"Output_Layer\")(x)\n",
        "\n",
        "#learning_rate = 0.5\n",
        "#adam = keras.optimizers.Adam(lr=learning_rate)\n",
        "#model2b = Model(Inp, output)\n",
        "\n",
        "#model2b.compile(loss='categorical_crossentropy',\n",
        "              #optimizer='adam',\n",
        "              #metrics=['accuracy'])"
      ]
    },
    {
      "outputs": [],
      "metadata": {
        "_cell_guid": "ad3ac83b-a040-42ba-9d62-2203e62a82ec",
        "_uuid": "c2e1a75c4a95acdfd3d5ce81af0c20bce995ca24",
        "_execution_state": "busy",
        "trusted": false,
        "id": "sA4qSAWFvV-i"
      },
      "cell_type": "code",
      "execution_count": null,
      "source": [
        "#history2b = model2b.fit(X_train, y_train,\n",
        "                        #batch_size = batch_size,\n",
        "                        #epochs = training_epochs,\n",
        "                            #validation_data=(X_cv, y_cv))"
      ]
    },
    {
      "metadata": {
        "collapsed": false,
        "_uuid": "a36eb4079d02e6d3997d107fc5e3dd3a452a0fc9",
        "_execution_state": "idle",
        "_cell_guid": "9189bb25-f243-4edf-a7a0-943ec633760d",
        "id": "edKQlkK9vV-j"
      },
      "cell_type": "markdown",
      "source": [
        "The accuracy, as measured by the 3 different learning rates 0.01, 0.1 and 0.5 are around 98%, 97% and 98% respectively. As there are no considerable gains by changing the learning rates, we stick with the default learning rate of 0.01.\n",
        "\n",
        "We proceed to fit a neural network with 5 hidden layers with the features in the hidden layer set as (300, 100, 100, 100, 200) respectively. To ensure that the two models are comparable, we will set the training epochs as 20, and the training batch size as 100."
      ]
    },
    {
      "outputs": [],
      "metadata": {
        "_cell_guid": "25d57f65-533c-432b-bd4a-a3127101d4bb",
        "_uuid": "c19270be516858cca76b3479417e4017877896b1",
        "_execution_state": "busy",
        "trusted": false,
        "id": "dTECvtqMvV-j"
      },
      "cell_type": "code",
      "execution_count": null,
      "source": [
        "# Input Parameters\n",
        "n_input = 784 # number of features\n",
        "n_hidden_1 = 300\n",
        "n_hidden_2 = 100\n",
        "n_hidden_3 = 100\n",
        "n_hidden_4 = 100\n",
        "n_hidden_5 = 200\n",
        "num_digits = 10"
      ]
    },
    {
      "outputs": [],
      "metadata": {
        "_cell_guid": "d179df94-04b5-4d1e-ab7f-882a72442837",
        "_uuid": "c919e5d20e55f0c86152efbb729feeb0292abf0a",
        "_execution_state": "busy",
        "trusted": false,
        "id": "h0L9g9pwvV-k"
      },
      "cell_type": "code",
      "execution_count": null,
      "source": [
        "#Inp = Input(shape=(784,))\n",
        "#x = Dense(n_hidden_1, activation='relu', name = \"Hidden_Layer_1\")(Inp)\n",
        "#x = Dense(n_hidden_2, activation='relu', name = \"Hidden_Layer_2\")(x)\n",
        "#x = Dense(n_hidden_3, activation='relu', name = \"Hidden_Layer_3\")(x)\n",
        "#x = Dense(n_hidden_4, activation='relu', name = \"Hidden_Layer_4\")(x)\n",
        "#x = Dense(n_hidden_5, activation='relu', name = \"Hidden_Layer_5\")(x)\n",
        "#output = Dense(num_digits, activation='softmax', name = \"Output_Layer\")(x)"
      ]
    },
    {
      "outputs": [
        {
          "output_type": "display_data",
          "data": {
            "text/plain": [
              "\u001b[1mModel: \"functional_3\"\u001b[0m\n"
            ],
            "text/html": [
              "<pre style=\"white-space:pre;overflow-x:auto;line-height:normal;font-family:Menlo,'DejaVu Sans Mono',consolas,'Courier New',monospace\"><span style=\"font-weight: bold\">Model: \"functional_3\"</span>\n",
              "</pre>\n"
            ]
          },
          "metadata": {}
        },
        {
          "output_type": "display_data",
          "data": {
            "text/plain": [
              "┏━━━━━━━━━━━━━━━━━━━━━━━━━━━━━━━━━┳━━━━━━━━━━━━━━━━━━━━━━━━┳━━━━━━━━━━━━━━━┓\n",
              "┃\u001b[1m \u001b[0m\u001b[1mLayer (type)                   \u001b[0m\u001b[1m \u001b[0m┃\u001b[1m \u001b[0m\u001b[1mOutput Shape          \u001b[0m\u001b[1m \u001b[0m┃\u001b[1m \u001b[0m\u001b[1m      Param #\u001b[0m\u001b[1m \u001b[0m┃\n",
              "┡━━━━━━━━━━━━━━━━━━━━━━━━━━━━━━━━━╇━━━━━━━━━━━━━━━━━━━━━━━━╇━━━━━━━━━━━━━━━┩\n",
              "│ input_layer_4 (\u001b[38;5;33mInputLayer\u001b[0m)      │ (\u001b[38;5;45mNone\u001b[0m, \u001b[38;5;34m784\u001b[0m)            │             \u001b[38;5;34m0\u001b[0m │\n",
              "├─────────────────────────────────┼────────────────────────┼───────────────┤\n",
              "│ Hidden_Layer_1 (\u001b[38;5;33mDense\u001b[0m)          │ (\u001b[38;5;45mNone\u001b[0m, \u001b[38;5;34m300\u001b[0m)            │       \u001b[38;5;34m235,500\u001b[0m │\n",
              "├─────────────────────────────────┼────────────────────────┼───────────────┤\n",
              "│ Hidden_Layer_2 (\u001b[38;5;33mDense\u001b[0m)          │ (\u001b[38;5;45mNone\u001b[0m, \u001b[38;5;34m100\u001b[0m)            │        \u001b[38;5;34m30,100\u001b[0m │\n",
              "├─────────────────────────────────┼────────────────────────┼───────────────┤\n",
              "│ Hidden_Layer_3 (\u001b[38;5;33mDense\u001b[0m)          │ (\u001b[38;5;45mNone\u001b[0m, \u001b[38;5;34m100\u001b[0m)            │        \u001b[38;5;34m10,100\u001b[0m │\n",
              "├─────────────────────────────────┼────────────────────────┼───────────────┤\n",
              "│ Hidden_Layer_4 (\u001b[38;5;33mDense\u001b[0m)          │ (\u001b[38;5;45mNone\u001b[0m, \u001b[38;5;34m200\u001b[0m)            │        \u001b[38;5;34m20,200\u001b[0m │\n",
              "├─────────────────────────────────┼────────────────────────┼───────────────┤\n",
              "│ Output_Layer (\u001b[38;5;33mDense\u001b[0m)            │ (\u001b[38;5;45mNone\u001b[0m, \u001b[38;5;34m10\u001b[0m)             │         \u001b[38;5;34m2,010\u001b[0m │\n",
              "└─────────────────────────────────┴────────────────────────┴───────────────┘\n"
            ],
            "text/html": [
              "<pre style=\"white-space:pre;overflow-x:auto;line-height:normal;font-family:Menlo,'DejaVu Sans Mono',consolas,'Courier New',monospace\">┏━━━━━━━━━━━━━━━━━━━━━━━━━━━━━━━━━┳━━━━━━━━━━━━━━━━━━━━━━━━┳━━━━━━━━━━━━━━━┓\n",
              "┃<span style=\"font-weight: bold\"> Layer (type)                    </span>┃<span style=\"font-weight: bold\"> Output Shape           </span>┃<span style=\"font-weight: bold\">       Param # </span>┃\n",
              "┡━━━━━━━━━━━━━━━━━━━━━━━━━━━━━━━━━╇━━━━━━━━━━━━━━━━━━━━━━━━╇━━━━━━━━━━━━━━━┩\n",
              "│ input_layer_4 (<span style=\"color: #0087ff; text-decoration-color: #0087ff\">InputLayer</span>)      │ (<span style=\"color: #00d7ff; text-decoration-color: #00d7ff\">None</span>, <span style=\"color: #00af00; text-decoration-color: #00af00\">784</span>)            │             <span style=\"color: #00af00; text-decoration-color: #00af00\">0</span> │\n",
              "├─────────────────────────────────┼────────────────────────┼───────────────┤\n",
              "│ Hidden_Layer_1 (<span style=\"color: #0087ff; text-decoration-color: #0087ff\">Dense</span>)          │ (<span style=\"color: #00d7ff; text-decoration-color: #00d7ff\">None</span>, <span style=\"color: #00af00; text-decoration-color: #00af00\">300</span>)            │       <span style=\"color: #00af00; text-decoration-color: #00af00\">235,500</span> │\n",
              "├─────────────────────────────────┼────────────────────────┼───────────────┤\n",
              "│ Hidden_Layer_2 (<span style=\"color: #0087ff; text-decoration-color: #0087ff\">Dense</span>)          │ (<span style=\"color: #00d7ff; text-decoration-color: #00d7ff\">None</span>, <span style=\"color: #00af00; text-decoration-color: #00af00\">100</span>)            │        <span style=\"color: #00af00; text-decoration-color: #00af00\">30,100</span> │\n",
              "├─────────────────────────────────┼────────────────────────┼───────────────┤\n",
              "│ Hidden_Layer_3 (<span style=\"color: #0087ff; text-decoration-color: #0087ff\">Dense</span>)          │ (<span style=\"color: #00d7ff; text-decoration-color: #00d7ff\">None</span>, <span style=\"color: #00af00; text-decoration-color: #00af00\">100</span>)            │        <span style=\"color: #00af00; text-decoration-color: #00af00\">10,100</span> │\n",
              "├─────────────────────────────────┼────────────────────────┼───────────────┤\n",
              "│ Hidden_Layer_4 (<span style=\"color: #0087ff; text-decoration-color: #0087ff\">Dense</span>)          │ (<span style=\"color: #00d7ff; text-decoration-color: #00d7ff\">None</span>, <span style=\"color: #00af00; text-decoration-color: #00af00\">200</span>)            │        <span style=\"color: #00af00; text-decoration-color: #00af00\">20,200</span> │\n",
              "├─────────────────────────────────┼────────────────────────┼───────────────┤\n",
              "│ Output_Layer (<span style=\"color: #0087ff; text-decoration-color: #0087ff\">Dense</span>)            │ (<span style=\"color: #00d7ff; text-decoration-color: #00d7ff\">None</span>, <span style=\"color: #00af00; text-decoration-color: #00af00\">10</span>)             │         <span style=\"color: #00af00; text-decoration-color: #00af00\">2,010</span> │\n",
              "└─────────────────────────────────┴────────────────────────┴───────────────┘\n",
              "</pre>\n"
            ]
          },
          "metadata": {}
        },
        {
          "output_type": "display_data",
          "data": {
            "text/plain": [
              "\u001b[1m Total params: \u001b[0m\u001b[38;5;34m297,910\u001b[0m (1.14 MB)\n"
            ],
            "text/html": [
              "<pre style=\"white-space:pre;overflow-x:auto;line-height:normal;font-family:Menlo,'DejaVu Sans Mono',consolas,'Courier New',monospace\"><span style=\"font-weight: bold\"> Total params: </span><span style=\"color: #00af00; text-decoration-color: #00af00\">297,910</span> (1.14 MB)\n",
              "</pre>\n"
            ]
          },
          "metadata": {}
        },
        {
          "output_type": "display_data",
          "data": {
            "text/plain": [
              "\u001b[1m Trainable params: \u001b[0m\u001b[38;5;34m297,910\u001b[0m (1.14 MB)\n"
            ],
            "text/html": [
              "<pre style=\"white-space:pre;overflow-x:auto;line-height:normal;font-family:Menlo,'DejaVu Sans Mono',consolas,'Courier New',monospace\"><span style=\"font-weight: bold\"> Trainable params: </span><span style=\"color: #00af00; text-decoration-color: #00af00\">297,910</span> (1.14 MB)\n",
              "</pre>\n"
            ]
          },
          "metadata": {}
        },
        {
          "output_type": "display_data",
          "data": {
            "text/plain": [
              "\u001b[1m Non-trainable params: \u001b[0m\u001b[38;5;34m0\u001b[0m (0.00 B)\n"
            ],
            "text/html": [
              "<pre style=\"white-space:pre;overflow-x:auto;line-height:normal;font-family:Menlo,'DejaVu Sans Mono',consolas,'Courier New',monospace\"><span style=\"font-weight: bold\"> Non-trainable params: </span><span style=\"color: #00af00; text-decoration-color: #00af00\">0</span> (0.00 B)\n",
              "</pre>\n"
            ]
          },
          "metadata": {}
        }
      ],
      "metadata": {
        "_cell_guid": "04f2f013-41ee-48a7-9204-cfe8b748e09c",
        "_uuid": "db189665726670192df8ed9e9758e908821f629b",
        "_execution_state": "busy",
        "trusted": false,
        "id": "7BjNq2duvV-k",
        "outputId": "746044e5-c7ba-4454-f3e4-dc611fc47c00",
        "colab": {
          "base_uri": "https://localhost:8080/",
          "height": 361
        }
      },
      "cell_type": "code",
      "execution_count": null,
      "source": [
        "# Our model would have '7' layers - input layer, 5 hidden layer and 1 output layer\n",
        "model3 = Model(Inp, output)\n",
        "model3.summary() # We have 308,010 parameters to estimate"
      ]
    },
    {
      "outputs": [],
      "metadata": {
        "_cell_guid": "3da4e128-5987-4fb3-a2c7-93420c844d1d",
        "_uuid": "304ab7710bc6f2e56d698cc232fadbba6886b664",
        "_execution_state": "busy",
        "trusted": false,
        "id": "Ljp97jxGvV-l"
      },
      "cell_type": "code",
      "execution_count": null,
      "source": [
        "# We rely on 'Adam' as our optimizing methodology\n",
        "#adam = keras.optimizers.Adam(lr=0.01)\n",
        "\n",
        "#model3.compile(loss='categorical_crossentropy',\n",
        "              #optimizer='adam',\n",
        "              #metrics=['accuracy'])"
      ]
    },
    {
      "outputs": [],
      "metadata": {
        "_cell_guid": "f7ac3e43-bf76-488d-8ec6-31ec98228ee6",
        "_uuid": "986fc367bbd1fc9767c30a03324c4d18e3bfd0d5",
        "_execution_state": "busy",
        "trusted": false,
        "id": "rIIXr_zqvV-l"
      },
      "cell_type": "code",
      "execution_count": null,
      "source": [
        "#history3 = model3.fit(X_train, y_train,\n",
        "                      #batch_size = batch_size,\n",
        "                      #epochs = training_epochs,\n",
        "                      #validation_data=(X_cv, y_cv))"
      ]
    },
    {
      "outputs": [],
      "metadata": {
        "_cell_guid": "9054eb9b-e655-415c-93e7-3f0ca45d84ac",
        "_uuid": "608b71d5bd8dc23df6d916e7371887fd52dd24d8",
        "_execution_state": "busy",
        "trusted": false,
        "id": "MZcDUFK2vV-w"
      },
      "cell_type": "code",
      "execution_count": null,
      "source": [
        "# Input Parameters\n",
        "n_input = 784 # number of features\n",
        "n_hidden_1 = 300\n",
        "n_hidden_2 = 100\n",
        "n_hidden_3 = 100\n",
        "n_hidden_4 = 200\n",
        "num_digits = 10"
      ]
    },
    {
      "outputs": [],
      "metadata": {
        "_cell_guid": "0541e860-b2f6-43cd-8d00-254e9daf775a",
        "_uuid": "d6335bd113992a8898679d1a5d09ed2eda3fe5af",
        "_execution_state": "busy",
        "trusted": false,
        "id": "FoLbl92pvV-x"
      },
      "cell_type": "code",
      "execution_count": null,
      "source": [
        "Inp = Input(shape=(784,))\n",
        "x = Dense(n_hidden_1, activation='relu', name = \"Hidden_Layer_1\")(Inp)\n",
        "x = Dropout(0.3)(x)\n",
        "x = Dense(n_hidden_2, activation='relu', name = \"Hidden_Layer_2\")(x)\n",
        "x = Dropout(0.3)(x)\n",
        "x = Dense(n_hidden_3, activation='relu', name = \"Hidden_Layer_3\")(x)\n",
        "x = Dropout(0.3)(x)\n",
        "x = Dense(n_hidden_4, activation='relu', name = \"Hidden_Layer_4\")(x)\n",
        "output = Dense(num_digits, activation='softmax', name = \"Output_Layer\")(x)"
      ]
    },
    {
      "outputs": [
        {
          "output_type": "display_data",
          "data": {
            "text/plain": [
              "\u001b[1mModel: \"functional_2\"\u001b[0m\n"
            ],
            "text/html": [
              "<pre style=\"white-space:pre;overflow-x:auto;line-height:normal;font-family:Menlo,'DejaVu Sans Mono',consolas,'Courier New',monospace\"><span style=\"font-weight: bold\">Model: \"functional_2\"</span>\n",
              "</pre>\n"
            ]
          },
          "metadata": {}
        },
        {
          "output_type": "display_data",
          "data": {
            "text/plain": [
              "┏━━━━━━━━━━━━━━━━━━━━━━━━━━━━━━━━━┳━━━━━━━━━━━━━━━━━━━━━━━━┳━━━━━━━━━━━━━━━┓\n",
              "┃\u001b[1m \u001b[0m\u001b[1mLayer (type)                   \u001b[0m\u001b[1m \u001b[0m┃\u001b[1m \u001b[0m\u001b[1mOutput Shape          \u001b[0m\u001b[1m \u001b[0m┃\u001b[1m \u001b[0m\u001b[1m      Param #\u001b[0m\u001b[1m \u001b[0m┃\n",
              "┡━━━━━━━━━━━━━━━━━━━━━━━━━━━━━━━━━╇━━━━━━━━━━━━━━━━━━━━━━━━╇━━━━━━━━━━━━━━━┩\n",
              "│ input_layer_2 (\u001b[38;5;33mInputLayer\u001b[0m)      │ (\u001b[38;5;45mNone\u001b[0m, \u001b[38;5;34m784\u001b[0m)            │             \u001b[38;5;34m0\u001b[0m │\n",
              "├─────────────────────────────────┼────────────────────────┼───────────────┤\n",
              "│ Hidden_Layer_1 (\u001b[38;5;33mDense\u001b[0m)          │ (\u001b[38;5;45mNone\u001b[0m, \u001b[38;5;34m300\u001b[0m)            │       \u001b[38;5;34m235,500\u001b[0m │\n",
              "├─────────────────────────────────┼────────────────────────┼───────────────┤\n",
              "│ Hidden_Layer_2 (\u001b[38;5;33mDense\u001b[0m)          │ (\u001b[38;5;45mNone\u001b[0m, \u001b[38;5;34m100\u001b[0m)            │        \u001b[38;5;34m30,100\u001b[0m │\n",
              "├─────────────────────────────────┼────────────────────────┼───────────────┤\n",
              "│ Hidden_Layer_3 (\u001b[38;5;33mDense\u001b[0m)          │ (\u001b[38;5;45mNone\u001b[0m, \u001b[38;5;34m100\u001b[0m)            │        \u001b[38;5;34m10,100\u001b[0m │\n",
              "├─────────────────────────────────┼────────────────────────┼───────────────┤\n",
              "│ Hidden_Layer_4 (\u001b[38;5;33mDense\u001b[0m)          │ (\u001b[38;5;45mNone\u001b[0m, \u001b[38;5;34m200\u001b[0m)            │        \u001b[38;5;34m20,200\u001b[0m │\n",
              "├─────────────────────────────────┼────────────────────────┼───────────────┤\n",
              "│ Output_Layer (\u001b[38;5;33mDense\u001b[0m)            │ (\u001b[38;5;45mNone\u001b[0m, \u001b[38;5;34m10\u001b[0m)             │         \u001b[38;5;34m2,010\u001b[0m │\n",
              "└─────────────────────────────────┴────────────────────────┴───────────────┘\n"
            ],
            "text/html": [
              "<pre style=\"white-space:pre;overflow-x:auto;line-height:normal;font-family:Menlo,'DejaVu Sans Mono',consolas,'Courier New',monospace\">┏━━━━━━━━━━━━━━━━━━━━━━━━━━━━━━━━━┳━━━━━━━━━━━━━━━━━━━━━━━━┳━━━━━━━━━━━━━━━┓\n",
              "┃<span style=\"font-weight: bold\"> Layer (type)                    </span>┃<span style=\"font-weight: bold\"> Output Shape           </span>┃<span style=\"font-weight: bold\">       Param # </span>┃\n",
              "┡━━━━━━━━━━━━━━━━━━━━━━━━━━━━━━━━━╇━━━━━━━━━━━━━━━━━━━━━━━━╇━━━━━━━━━━━━━━━┩\n",
              "│ input_layer_2 (<span style=\"color: #0087ff; text-decoration-color: #0087ff\">InputLayer</span>)      │ (<span style=\"color: #00d7ff; text-decoration-color: #00d7ff\">None</span>, <span style=\"color: #00af00; text-decoration-color: #00af00\">784</span>)            │             <span style=\"color: #00af00; text-decoration-color: #00af00\">0</span> │\n",
              "├─────────────────────────────────┼────────────────────────┼───────────────┤\n",
              "│ Hidden_Layer_1 (<span style=\"color: #0087ff; text-decoration-color: #0087ff\">Dense</span>)          │ (<span style=\"color: #00d7ff; text-decoration-color: #00d7ff\">None</span>, <span style=\"color: #00af00; text-decoration-color: #00af00\">300</span>)            │       <span style=\"color: #00af00; text-decoration-color: #00af00\">235,500</span> │\n",
              "├─────────────────────────────────┼────────────────────────┼───────────────┤\n",
              "│ Hidden_Layer_2 (<span style=\"color: #0087ff; text-decoration-color: #0087ff\">Dense</span>)          │ (<span style=\"color: #00d7ff; text-decoration-color: #00d7ff\">None</span>, <span style=\"color: #00af00; text-decoration-color: #00af00\">100</span>)            │        <span style=\"color: #00af00; text-decoration-color: #00af00\">30,100</span> │\n",
              "├─────────────────────────────────┼────────────────────────┼───────────────┤\n",
              "│ Hidden_Layer_3 (<span style=\"color: #0087ff; text-decoration-color: #0087ff\">Dense</span>)          │ (<span style=\"color: #00d7ff; text-decoration-color: #00d7ff\">None</span>, <span style=\"color: #00af00; text-decoration-color: #00af00\">100</span>)            │        <span style=\"color: #00af00; text-decoration-color: #00af00\">10,100</span> │\n",
              "├─────────────────────────────────┼────────────────────────┼───────────────┤\n",
              "│ Hidden_Layer_4 (<span style=\"color: #0087ff; text-decoration-color: #0087ff\">Dense</span>)          │ (<span style=\"color: #00d7ff; text-decoration-color: #00d7ff\">None</span>, <span style=\"color: #00af00; text-decoration-color: #00af00\">200</span>)            │        <span style=\"color: #00af00; text-decoration-color: #00af00\">20,200</span> │\n",
              "├─────────────────────────────────┼────────────────────────┼───────────────┤\n",
              "│ Output_Layer (<span style=\"color: #0087ff; text-decoration-color: #0087ff\">Dense</span>)            │ (<span style=\"color: #00d7ff; text-decoration-color: #00d7ff\">None</span>, <span style=\"color: #00af00; text-decoration-color: #00af00\">10</span>)             │         <span style=\"color: #00af00; text-decoration-color: #00af00\">2,010</span> │\n",
              "└─────────────────────────────────┴────────────────────────┴───────────────┘\n",
              "</pre>\n"
            ]
          },
          "metadata": {}
        },
        {
          "output_type": "display_data",
          "data": {
            "text/plain": [
              "\u001b[1m Total params: \u001b[0m\u001b[38;5;34m297,910\u001b[0m (1.14 MB)\n"
            ],
            "text/html": [
              "<pre style=\"white-space:pre;overflow-x:auto;line-height:normal;font-family:Menlo,'DejaVu Sans Mono',consolas,'Courier New',monospace\"><span style=\"font-weight: bold\"> Total params: </span><span style=\"color: #00af00; text-decoration-color: #00af00\">297,910</span> (1.14 MB)\n",
              "</pre>\n"
            ]
          },
          "metadata": {}
        },
        {
          "output_type": "display_data",
          "data": {
            "text/plain": [
              "\u001b[1m Trainable params: \u001b[0m\u001b[38;5;34m297,910\u001b[0m (1.14 MB)\n"
            ],
            "text/html": [
              "<pre style=\"white-space:pre;overflow-x:auto;line-height:normal;font-family:Menlo,'DejaVu Sans Mono',consolas,'Courier New',monospace\"><span style=\"font-weight: bold\"> Trainable params: </span><span style=\"color: #00af00; text-decoration-color: #00af00\">297,910</span> (1.14 MB)\n",
              "</pre>\n"
            ]
          },
          "metadata": {}
        },
        {
          "output_type": "display_data",
          "data": {
            "text/plain": [
              "\u001b[1m Non-trainable params: \u001b[0m\u001b[38;5;34m0\u001b[0m (0.00 B)\n"
            ],
            "text/html": [
              "<pre style=\"white-space:pre;overflow-x:auto;line-height:normal;font-family:Menlo,'DejaVu Sans Mono',consolas,'Courier New',monospace\"><span style=\"font-weight: bold\"> Non-trainable params: </span><span style=\"color: #00af00; text-decoration-color: #00af00\">0</span> (0.00 B)\n",
              "</pre>\n"
            ]
          },
          "metadata": {}
        }
      ],
      "metadata": {
        "_cell_guid": "95f4299a-0e1c-4dca-b7d5-839e7a5e8fc8",
        "_uuid": "08e56562d89bcd25756bc5bbbb4f33ceb87f106e",
        "_execution_state": "busy",
        "trusted": false,
        "id": "JBnp8Rd6vV-y",
        "outputId": "8320c52d-88a6-4bad-e0e7-38591d3b4f8d",
        "colab": {
          "base_uri": "https://localhost:8080/",
          "height": 361
        }
      },
      "cell_type": "code",
      "execution_count": null,
      "source": [
        "# Our model would have '6' layers - input layer, 4 hidden layer and 1 output layer\n",
        "model4 = Model(Inp, output)\n",
        "model4.summary() # We have 297,910 parameters to estimate"
      ]
    },
    {
      "outputs": [],
      "metadata": {
        "_cell_guid": "ed1c4a9d-730e-4e4d-8a25-4448d877d5b6",
        "_uuid": "2328fa07b0f4c63448b0c30b7ae450df2b0fe3be",
        "_execution_state": "busy",
        "trusted": false,
        "id": "3oOXuMfxvV-z"
      },
      "cell_type": "code",
      "execution_count": null,
      "source": [
        "#model4.compile(loss='categorical_crossentropy',\n",
        "              #optimizer='adam',\n",
        "              #metrics=['accuracy'])"
      ]
    },
    {
      "outputs": [],
      "metadata": {
        "_cell_guid": "8543232e-da2b-46ce-9a5e-06e6283b854a",
        "_uuid": "986af85bbaf1b212b00cf28dc9204339b717ee48",
        "_execution_state": "busy",
        "trusted": false,
        "id": "LmwwquQ_vV-0"
      },
      "cell_type": "code",
      "execution_count": null,
      "source": [
        "#history = model4.fit(X_train, y_train,\n",
        "                    #batch_size = batch_size,\n",
        "                    #epochs = training_epochs,\n",
        "                    #validation_data=(X_cv, y_cv))"
      ]
    },
    {
      "metadata": {
        "collapsed": false,
        "_uuid": "ad316467bedf355759a181d353850f1d365ee05b",
        "_execution_state": "idle",
        "_cell_guid": "07d922d5-ec8a-4b3b-8e02-a0aafc3ad52a",
        "id": "ueO4bI-nvV-0"
      },
      "cell_type": "markdown",
      "source": [
        "With a validation score of close to 98%, we proceed to use this model to predict for the test set."
      ]
    },
    {
      "outputs": [],
      "metadata": {
        "_cell_guid": "d07359be-0cb3-4e0b-9d3e-d8953f67211d",
        "_uuid": "8ae888d3b351dca6417ed4e3830688f1b75701ec",
        "_execution_state": "busy",
        "trusted": false,
        "id": "Fj78AeI7vV-1"
      },
      "cell_type": "code",
      "execution_count": null,
      "source": [
        "#test_pred = pd.DataFrame(model4.predict(X_test, batch_size=200))\n",
        "#test_pred = pd.DataFrame(test_pred.idxmax(axis = 1))\n",
        "#test_pred.index.name = 'ImageId'\n",
        "#test_pred = test_pred.rename(columns = {0: 'Label'}).reset_index()\n",
        "#test_pred['ImageId'] = test_pred['ImageId'] + 1\n",
        "\n",
        "#test_pred.head()"
      ]
    },
    {
      "outputs": [],
      "metadata": {
        "_cell_guid": "2a132e08-be9b-4efa-89bc-6fc9952b6fde",
        "_uuid": "02492c073118b428bb2c4937840e12c35f1a0fd4",
        "_execution_state": "busy",
        "trusted": false,
        "id": "w3H7JIoFvV-2"
      },
      "cell_type": "code",
      "execution_count": null,
      "source": [
        "#test_pred.to_csv('mnist_submission.csv', index = False)"
      ]
    },
    {
      "metadata": {
        "collapsed": false,
        "_uuid": "515b774eafeacae442e19e3fae989a49f6904837",
        "_execution_state": "idle",
        "_cell_guid": "1510902d-0b15-4b5b-9268-e4f8e1544222",
        "id": "hoFxf1hsvV-3"
      },
      "cell_type": "markdown",
      "source": [
        "Using this model, we are able to achieve a score of 0.976, which places us at the top 55th percentile!"
      ]
    }
  ],
  "metadata": {
    "kernelspec": {
      "display_name": "Python 3",
      "name": "python3",
      "language": "python"
    },
    "language_info": {
      "version": "3.6.1",
      "nbconvert_exporter": "python",
      "file_extension": ".py",
      "pygments_lexer": "ipython3",
      "mimetype": "text/x-python",
      "name": "python",
      "codemirror_mode": {
        "version": 3,
        "name": "ipython"
      }
    },
    "colab": {
      "provenance": [],
      "include_colab_link": true
    },
    "widgets": {
      "application/vnd.jupyter.widget-state+json": {
        "516206cd300e470aa9502433e8062ea5": {
          "model_module": "@jupyter-widgets/controls",
          "model_name": "VBoxModel",
          "model_module_version": "1.5.0",
          "state": {
            "_dom_classes": [],
            "_model_module": "@jupyter-widgets/controls",
            "_model_module_version": "1.5.0",
            "_model_name": "VBoxModel",
            "_view_count": null,
            "_view_module": "@jupyter-widgets/controls",
            "_view_module_version": "1.5.0",
            "_view_name": "VBoxView",
            "box_style": "",
            "children": [
              "IPY_MODEL_adb09fb9b3c04179b777bdcb4d691fb5",
              "IPY_MODEL_6b515178eef541eca40a972394c252a3",
              "IPY_MODEL_e00d319b444a47768da9962e807162a7",
              "IPY_MODEL_f9c80a64ee4542a794535b580b43a869",
              "IPY_MODEL_3c59f51227b047e7b1d9a9450ae513d7"
            ],
            "layout": "IPY_MODEL_7a14e6981b994f5aa84d075c951cb81c"
          }
        },
        "adb09fb9b3c04179b777bdcb4d691fb5": {
          "model_module": "@jupyter-widgets/controls",
          "model_name": "HTMLModel",
          "model_module_version": "1.5.0",
          "state": {
            "_dom_classes": [],
            "_model_module": "@jupyter-widgets/controls",
            "_model_module_version": "1.5.0",
            "_model_name": "HTMLModel",
            "_view_count": null,
            "_view_module": "@jupyter-widgets/controls",
            "_view_module_version": "1.5.0",
            "_view_name": "HTMLView",
            "description": "",
            "description_tooltip": null,
            "layout": "IPY_MODEL_a98204efd47e4451ac70dc535ceb0fb0",
            "placeholder": "​",
            "style": "IPY_MODEL_b2d971b381504a9b90326ff0c5de365a",
            "value": "<center> <img\nsrc=https://www.kaggle.com/static/images/site-logo.png\nalt='Kaggle'> <br> Create an API token from <a\nhref=\"https://www.kaggle.com/settings/account\" target=\"_blank\">your Kaggle\nsettings page</a> and paste it below along with your Kaggle username. <br> </center>"
          }
        },
        "6b515178eef541eca40a972394c252a3": {
          "model_module": "@jupyter-widgets/controls",
          "model_name": "TextModel",
          "model_module_version": "1.5.0",
          "state": {
            "_dom_classes": [],
            "_model_module": "@jupyter-widgets/controls",
            "_model_module_version": "1.5.0",
            "_model_name": "TextModel",
            "_view_count": null,
            "_view_module": "@jupyter-widgets/controls",
            "_view_module_version": "1.5.0",
            "_view_name": "TextView",
            "continuous_update": true,
            "description": "Username:",
            "description_tooltip": null,
            "disabled": false,
            "layout": "IPY_MODEL_ed94bc4b191b4b58adc5782aa4adaf19",
            "placeholder": "​",
            "style": "IPY_MODEL_90c0497f6b98440a90da31bdc253c1ba",
            "value": ""
          }
        },
        "e00d319b444a47768da9962e807162a7": {
          "model_module": "@jupyter-widgets/controls",
          "model_name": "PasswordModel",
          "model_module_version": "1.5.0",
          "state": {
            "_dom_classes": [],
            "_model_module": "@jupyter-widgets/controls",
            "_model_module_version": "1.5.0",
            "_model_name": "PasswordModel",
            "_view_count": null,
            "_view_module": "@jupyter-widgets/controls",
            "_view_module_version": "1.5.0",
            "_view_name": "PasswordView",
            "continuous_update": true,
            "description": "Token:",
            "description_tooltip": null,
            "disabled": false,
            "layout": "IPY_MODEL_f5f15a1f619f4ffb9a869a7a028168da",
            "placeholder": "​",
            "style": "IPY_MODEL_dee0897138564bdcb3d0f16dc215c8c0",
            "value": ""
          }
        },
        "f9c80a64ee4542a794535b580b43a869": {
          "model_module": "@jupyter-widgets/controls",
          "model_name": "ButtonModel",
          "model_module_version": "1.5.0",
          "state": {
            "_dom_classes": [],
            "_model_module": "@jupyter-widgets/controls",
            "_model_module_version": "1.5.0",
            "_model_name": "ButtonModel",
            "_view_count": null,
            "_view_module": "@jupyter-widgets/controls",
            "_view_module_version": "1.5.0",
            "_view_name": "ButtonView",
            "button_style": "",
            "description": "Login",
            "disabled": false,
            "icon": "",
            "layout": "IPY_MODEL_971e6b2fe1de47f189eb48c826e2796e",
            "style": "IPY_MODEL_ba79b1f8c85f4fbc8f79637d65a1f6d3",
            "tooltip": ""
          }
        },
        "3c59f51227b047e7b1d9a9450ae513d7": {
          "model_module": "@jupyter-widgets/controls",
          "model_name": "HTMLModel",
          "model_module_version": "1.5.0",
          "state": {
            "_dom_classes": [],
            "_model_module": "@jupyter-widgets/controls",
            "_model_module_version": "1.5.0",
            "_model_name": "HTMLModel",
            "_view_count": null,
            "_view_module": "@jupyter-widgets/controls",
            "_view_module_version": "1.5.0",
            "_view_name": "HTMLView",
            "description": "",
            "description_tooltip": null,
            "layout": "IPY_MODEL_67cfab8e97fd46dabb54c98c145dd67c",
            "placeholder": "​",
            "style": "IPY_MODEL_90c18c38012f492399dfca79acf2b7ee",
            "value": "\n<b>Thank You</b></center>"
          }
        },
        "7a14e6981b994f5aa84d075c951cb81c": {
          "model_module": "@jupyter-widgets/base",
          "model_name": "LayoutModel",
          "model_module_version": "1.2.0",
          "state": {
            "_model_module": "@jupyter-widgets/base",
            "_model_module_version": "1.2.0",
            "_model_name": "LayoutModel",
            "_view_count": null,
            "_view_module": "@jupyter-widgets/base",
            "_view_module_version": "1.2.0",
            "_view_name": "LayoutView",
            "align_content": null,
            "align_items": "center",
            "align_self": null,
            "border": null,
            "bottom": null,
            "display": "flex",
            "flex": null,
            "flex_flow": "column",
            "grid_area": null,
            "grid_auto_columns": null,
            "grid_auto_flow": null,
            "grid_auto_rows": null,
            "grid_column": null,
            "grid_gap": null,
            "grid_row": null,
            "grid_template_areas": null,
            "grid_template_columns": null,
            "grid_template_rows": null,
            "height": null,
            "justify_content": null,
            "justify_items": null,
            "left": null,
            "margin": null,
            "max_height": null,
            "max_width": null,
            "min_height": null,
            "min_width": null,
            "object_fit": null,
            "object_position": null,
            "order": null,
            "overflow": null,
            "overflow_x": null,
            "overflow_y": null,
            "padding": null,
            "right": null,
            "top": null,
            "visibility": null,
            "width": "50%"
          }
        },
        "a98204efd47e4451ac70dc535ceb0fb0": {
          "model_module": "@jupyter-widgets/base",
          "model_name": "LayoutModel",
          "model_module_version": "1.2.0",
          "state": {
            "_model_module": "@jupyter-widgets/base",
            "_model_module_version": "1.2.0",
            "_model_name": "LayoutModel",
            "_view_count": null,
            "_view_module": "@jupyter-widgets/base",
            "_view_module_version": "1.2.0",
            "_view_name": "LayoutView",
            "align_content": null,
            "align_items": null,
            "align_self": null,
            "border": null,
            "bottom": null,
            "display": null,
            "flex": null,
            "flex_flow": null,
            "grid_area": null,
            "grid_auto_columns": null,
            "grid_auto_flow": null,
            "grid_auto_rows": null,
            "grid_column": null,
            "grid_gap": null,
            "grid_row": null,
            "grid_template_areas": null,
            "grid_template_columns": null,
            "grid_template_rows": null,
            "height": null,
            "justify_content": null,
            "justify_items": null,
            "left": null,
            "margin": null,
            "max_height": null,
            "max_width": null,
            "min_height": null,
            "min_width": null,
            "object_fit": null,
            "object_position": null,
            "order": null,
            "overflow": null,
            "overflow_x": null,
            "overflow_y": null,
            "padding": null,
            "right": null,
            "top": null,
            "visibility": null,
            "width": null
          }
        },
        "b2d971b381504a9b90326ff0c5de365a": {
          "model_module": "@jupyter-widgets/controls",
          "model_name": "DescriptionStyleModel",
          "model_module_version": "1.5.0",
          "state": {
            "_model_module": "@jupyter-widgets/controls",
            "_model_module_version": "1.5.0",
            "_model_name": "DescriptionStyleModel",
            "_view_count": null,
            "_view_module": "@jupyter-widgets/base",
            "_view_module_version": "1.2.0",
            "_view_name": "StyleView",
            "description_width": ""
          }
        },
        "ed94bc4b191b4b58adc5782aa4adaf19": {
          "model_module": "@jupyter-widgets/base",
          "model_name": "LayoutModel",
          "model_module_version": "1.2.0",
          "state": {
            "_model_module": "@jupyter-widgets/base",
            "_model_module_version": "1.2.0",
            "_model_name": "LayoutModel",
            "_view_count": null,
            "_view_module": "@jupyter-widgets/base",
            "_view_module_version": "1.2.0",
            "_view_name": "LayoutView",
            "align_content": null,
            "align_items": null,
            "align_self": null,
            "border": null,
            "bottom": null,
            "display": null,
            "flex": null,
            "flex_flow": null,
            "grid_area": null,
            "grid_auto_columns": null,
            "grid_auto_flow": null,
            "grid_auto_rows": null,
            "grid_column": null,
            "grid_gap": null,
            "grid_row": null,
            "grid_template_areas": null,
            "grid_template_columns": null,
            "grid_template_rows": null,
            "height": null,
            "justify_content": null,
            "justify_items": null,
            "left": null,
            "margin": null,
            "max_height": null,
            "max_width": null,
            "min_height": null,
            "min_width": null,
            "object_fit": null,
            "object_position": null,
            "order": null,
            "overflow": null,
            "overflow_x": null,
            "overflow_y": null,
            "padding": null,
            "right": null,
            "top": null,
            "visibility": null,
            "width": null
          }
        },
        "90c0497f6b98440a90da31bdc253c1ba": {
          "model_module": "@jupyter-widgets/controls",
          "model_name": "DescriptionStyleModel",
          "model_module_version": "1.5.0",
          "state": {
            "_model_module": "@jupyter-widgets/controls",
            "_model_module_version": "1.5.0",
            "_model_name": "DescriptionStyleModel",
            "_view_count": null,
            "_view_module": "@jupyter-widgets/base",
            "_view_module_version": "1.2.0",
            "_view_name": "StyleView",
            "description_width": ""
          }
        },
        "f5f15a1f619f4ffb9a869a7a028168da": {
          "model_module": "@jupyter-widgets/base",
          "model_name": "LayoutModel",
          "model_module_version": "1.2.0",
          "state": {
            "_model_module": "@jupyter-widgets/base",
            "_model_module_version": "1.2.0",
            "_model_name": "LayoutModel",
            "_view_count": null,
            "_view_module": "@jupyter-widgets/base",
            "_view_module_version": "1.2.0",
            "_view_name": "LayoutView",
            "align_content": null,
            "align_items": null,
            "align_self": null,
            "border": null,
            "bottom": null,
            "display": null,
            "flex": null,
            "flex_flow": null,
            "grid_area": null,
            "grid_auto_columns": null,
            "grid_auto_flow": null,
            "grid_auto_rows": null,
            "grid_column": null,
            "grid_gap": null,
            "grid_row": null,
            "grid_template_areas": null,
            "grid_template_columns": null,
            "grid_template_rows": null,
            "height": null,
            "justify_content": null,
            "justify_items": null,
            "left": null,
            "margin": null,
            "max_height": null,
            "max_width": null,
            "min_height": null,
            "min_width": null,
            "object_fit": null,
            "object_position": null,
            "order": null,
            "overflow": null,
            "overflow_x": null,
            "overflow_y": null,
            "padding": null,
            "right": null,
            "top": null,
            "visibility": null,
            "width": null
          }
        },
        "dee0897138564bdcb3d0f16dc215c8c0": {
          "model_module": "@jupyter-widgets/controls",
          "model_name": "DescriptionStyleModel",
          "model_module_version": "1.5.0",
          "state": {
            "_model_module": "@jupyter-widgets/controls",
            "_model_module_version": "1.5.0",
            "_model_name": "DescriptionStyleModel",
            "_view_count": null,
            "_view_module": "@jupyter-widgets/base",
            "_view_module_version": "1.2.0",
            "_view_name": "StyleView",
            "description_width": ""
          }
        },
        "971e6b2fe1de47f189eb48c826e2796e": {
          "model_module": "@jupyter-widgets/base",
          "model_name": "LayoutModel",
          "model_module_version": "1.2.0",
          "state": {
            "_model_module": "@jupyter-widgets/base",
            "_model_module_version": "1.2.0",
            "_model_name": "LayoutModel",
            "_view_count": null,
            "_view_module": "@jupyter-widgets/base",
            "_view_module_version": "1.2.0",
            "_view_name": "LayoutView",
            "align_content": null,
            "align_items": null,
            "align_self": null,
            "border": null,
            "bottom": null,
            "display": null,
            "flex": null,
            "flex_flow": null,
            "grid_area": null,
            "grid_auto_columns": null,
            "grid_auto_flow": null,
            "grid_auto_rows": null,
            "grid_column": null,
            "grid_gap": null,
            "grid_row": null,
            "grid_template_areas": null,
            "grid_template_columns": null,
            "grid_template_rows": null,
            "height": null,
            "justify_content": null,
            "justify_items": null,
            "left": null,
            "margin": null,
            "max_height": null,
            "max_width": null,
            "min_height": null,
            "min_width": null,
            "object_fit": null,
            "object_position": null,
            "order": null,
            "overflow": null,
            "overflow_x": null,
            "overflow_y": null,
            "padding": null,
            "right": null,
            "top": null,
            "visibility": null,
            "width": null
          }
        },
        "ba79b1f8c85f4fbc8f79637d65a1f6d3": {
          "model_module": "@jupyter-widgets/controls",
          "model_name": "ButtonStyleModel",
          "model_module_version": "1.5.0",
          "state": {
            "_model_module": "@jupyter-widgets/controls",
            "_model_module_version": "1.5.0",
            "_model_name": "ButtonStyleModel",
            "_view_count": null,
            "_view_module": "@jupyter-widgets/base",
            "_view_module_version": "1.2.0",
            "_view_name": "StyleView",
            "button_color": null,
            "font_weight": ""
          }
        },
        "67cfab8e97fd46dabb54c98c145dd67c": {
          "model_module": "@jupyter-widgets/base",
          "model_name": "LayoutModel",
          "model_module_version": "1.2.0",
          "state": {
            "_model_module": "@jupyter-widgets/base",
            "_model_module_version": "1.2.0",
            "_model_name": "LayoutModel",
            "_view_count": null,
            "_view_module": "@jupyter-widgets/base",
            "_view_module_version": "1.2.0",
            "_view_name": "LayoutView",
            "align_content": null,
            "align_items": null,
            "align_self": null,
            "border": null,
            "bottom": null,
            "display": null,
            "flex": null,
            "flex_flow": null,
            "grid_area": null,
            "grid_auto_columns": null,
            "grid_auto_flow": null,
            "grid_auto_rows": null,
            "grid_column": null,
            "grid_gap": null,
            "grid_row": null,
            "grid_template_areas": null,
            "grid_template_columns": null,
            "grid_template_rows": null,
            "height": null,
            "justify_content": null,
            "justify_items": null,
            "left": null,
            "margin": null,
            "max_height": null,
            "max_width": null,
            "min_height": null,
            "min_width": null,
            "object_fit": null,
            "object_position": null,
            "order": null,
            "overflow": null,
            "overflow_x": null,
            "overflow_y": null,
            "padding": null,
            "right": null,
            "top": null,
            "visibility": null,
            "width": null
          }
        },
        "90c18c38012f492399dfca79acf2b7ee": {
          "model_module": "@jupyter-widgets/controls",
          "model_name": "DescriptionStyleModel",
          "model_module_version": "1.5.0",
          "state": {
            "_model_module": "@jupyter-widgets/controls",
            "_model_module_version": "1.5.0",
            "_model_name": "DescriptionStyleModel",
            "_view_count": null,
            "_view_module": "@jupyter-widgets/base",
            "_view_module_version": "1.2.0",
            "_view_name": "StyleView",
            "description_width": ""
          }
        }
      }
    }
  },
  "nbformat_minor": 0,
  "nbformat": 4
}